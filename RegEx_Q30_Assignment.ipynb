{
 "cells": [
  {
   "cell_type": "raw",
   "id": "68ff0e2b",
   "metadata": {},
   "source": [
    "Question 1- Write a Python program to replace all occurrences of a space, comma, or dot with a colon.\n",
    "Sample Text- 'Python Exercises, PHP exercises.'\n",
    "Expected Output: Python:Exercises::PHP:exercises:"
   ]
  },
  {
   "cell_type": "code",
   "execution_count": 1,
   "id": "af37e527",
   "metadata": {},
   "outputs": [
    {
     "name": "stdout",
     "output_type": "stream",
     "text": [
      "Input text:  Python Exercises, PHP exercises.\n",
      "Output text: Python:Exercises::PHP:exercises:\n"
     ]
    }
   ],
   "source": [
    "import re\n",
    "\n",
    "def replace_characters_with_colon(input_string):\n",
    "    pattern = r'[ ,.]'\n",
    "\n",
    "    result_string = re.sub(pattern, ':', input_string)\n",
    "    return result_string\n",
    "# Sample\n",
    "input_text = \"Python Exercises, PHP exercises.\"\n",
    "output_text = replace_characters_with_colon(input_text)\n",
    "print(\"Input text: \", input_text)\n",
    "print(\"Output text:\", output_text)"
   ]
  },
  {
   "cell_type": "raw",
   "id": "75511a98",
   "metadata": {},
   "source": [
    "Question 2-  Create a dataframe using the dictionary below and remove everything (commas (,), !, XXXX, ;, etc.) from the columns except words.\n",
    "Dictionary- {'SUMMARY' : ['hello, world!', 'XXXXX test', '123four, five:; six...']}\n",
    "Expected output-\n",
    "0      hello world\n",
    "1             test\n",
    "2    four five six"
   ]
  },
  {
   "cell_type": "code",
   "execution_count": 2,
   "id": "caf6d9a1",
   "metadata": {},
   "outputs": [
    {
     "name": "stdout",
     "output_type": "stream",
     "text": [
      "         SUMMARY\n",
      "0    hello world\n",
      "1           test\n",
      "2  four five six\n"
     ]
    }
   ],
   "source": [
    "import pandas as pd\n",
    "import re\n",
    "\n",
    "data = {'SUMMARY': ['hello, world!', 'XXXXX test', '123four, five:; six...']}\n",
    "df = pd.DataFrame(data)\n",
    "\n",
    "def clean_text(text):\n",
    "    cleaned_text = re.sub(r'[^a-zA-Z\\s]|X', '', text)\n",
    "    return ' '.join(cleaned_text.split())\n",
    "\n",
    "df['SUMMARY'] = df['SUMMARY'].apply(clean_text)\n",
    "print(df)"
   ]
  },
  {
   "cell_type": "raw",
   "id": "7be8e3af",
   "metadata": {},
   "source": [
    "Question 3- Create a function in python to find all words that are at least 4 characters long in a string. The use of the re.compile() method is mandatory."
   ]
  },
  {
   "cell_type": "code",
   "execution_count": 3,
   "id": "fbc2fb67",
   "metadata": {},
   "outputs": [
    {
     "name": "stdout",
     "output_type": "stream",
     "text": [
      "Long words: ['1234', 'abcd', 'hello']\n"
     ]
    }
   ],
   "source": [
    "import re\n",
    "\n",
    "def find_long_words(input_string):\n",
    "    pattern = re.compile(r'\\b\\w{4,}\\b')\n",
    "    long_words = pattern.findall(input_string)\n",
    "\n",
    "    return long_words\n",
    "\n",
    "input_text = \"1234 abcd abb 123 hello hi \"\n",
    "result = find_long_words(input_text)\n",
    "print(\"Long words:\", result)"
   ]
  },
  {
   "cell_type": "raw",
   "id": "a602339b",
   "metadata": {},
   "source": [
    "Question 4- Create a function in python to find all three, four, and five character words in a string. The use of the re.compile() method is mandatory."
   ]
  },
  {
   "cell_type": "code",
   "execution_count": 4,
   "id": "980d9872",
   "metadata": {},
   "outputs": [
    {
     "name": "stdout",
     "output_type": "stream",
     "text": [
      "Three, four, and five character words: ['ABC', 'abcd', 'abbdc', 'abb', 'abce', '122']\n"
     ]
    }
   ],
   "source": [
    "import re\n",
    "\n",
    "def find_specific_length_words(input_string):\n",
    "    pattern = re.compile(r'\\b\\w{3,5}\\b')\n",
    "    specific_length_words = pattern.findall(input_string)\n",
    "\n",
    "    return specific_length_words\n",
    "\n",
    "input_text = \"ABC abcd abbdc ASCQWI ab abb abce ABBaQWW 122\"\n",
    "result = find_specific_length_words(input_text)\n",
    "print(\"Three, four, and five character words:\", result)"
   ]
  },
  {
   "cell_type": "raw",
   "id": "e0bb762d",
   "metadata": {},
   "source": [
    "Question 5- Create a function in Python to remove the parenthesis in a list of strings. The use of the re.compile() method is mandatory.\n",
    "Sample Text: [\"example (.com)\", \"hr@fliprobo (.com)\", \"github (.com)\", \"Hello (Data Science World)\", \"Data (Scientist)\"]\n",
    "Expected Output:\n",
    "example.com\n",
    "hr@fliprobo.com\n",
    "github.com\n",
    "Hello Data Science World\n",
    "Data Scientist"
   ]
  },
  {
   "cell_type": "code",
   "execution_count": 5,
   "id": "f7fda588",
   "metadata": {},
   "outputs": [
    {
     "name": "stdout",
     "output_type": "stream",
     "text": [
      "1: example \n",
      "2: hr@fliprobo \n",
      "3: github \n",
      "4: Hello \n",
      "5: Data \n"
     ]
    }
   ],
   "source": [
    "import re\n",
    "\n",
    "def remove_parentheses(strings_list):\n",
    "    \n",
    "    pattern = re.compile(r'\\([^)]*\\)')\n",
    "    result_list = [pattern.sub('', s) for s in strings_list]\n",
    "\n",
    "    return result_list\n",
    "sample_text = [\"example (.com)\", \"hr@fliprobo (.com)\", \"github (.com)\", \"Hello (Data Science World)\", \"Data (Scientist)\"]\n",
    "result = remove_parentheses(sample_text)\n",
    "\n",
    "for i, output in enumerate(result):\n",
    "    print(f\"{i + 1}: {output}\")"
   ]
  },
  {
   "cell_type": "raw",
   "id": "839a0724",
   "metadata": {},
   "source": [
    "Question 6- Write a python program to remove the parenthesis area from the text stored in the text file using Regular Expression.\n",
    "Sample Text: [\"example (.com)\", \"hr@fliprobo (.com)\", \"github (.com)\", \"Hello (Data Science World)\", \"Data (Scientist)\"]\n",
    "Expected Output: [\"example\", \"hr@fliprobo\", \"github\", \"Hello\", \"Data\"]\n",
    "Note- Store given sample text in the text file and then to remove the parenthesis area from the text.\n"
   ]
  },
  {
   "cell_type": "code",
   "execution_count": 6,
   "id": "af5c483e",
   "metadata": {},
   "outputs": [
    {
     "name": "stdout",
     "output_type": "stream",
     "text": [
      "['example', 'hr@fliprobo', 'github', 'Hello', 'Data']\n"
     ]
    }
   ],
   "source": [
    "import re\n",
    "\n",
    "def remove_parentheses_from_file(file_path):\n",
    "    with open(file_path, 'r') as file:\n",
    "        lines = file.readlines()\n",
    "    pattern = re.compile(r'\\([^)]*\\)')\n",
    "    modified_lines = [pattern.sub('', line).strip() for line in lines]\n",
    "    return modified_lines\n",
    "\n",
    "file_path = 'sample_text.txt'\n",
    "sample_text = [\n",
    "    \"example (.com)\",\n",
    "    \"hr@fliprobo (.com)\",\n",
    "    \"github (.com)\",\n",
    "    \"Hello (Data Science World)\",\n",
    "    \"Data (Scientist)\"\n",
    "]\n",
    "with open(file_path, 'w') as file:\n",
    "    for line in sample_text:\n",
    "        file.write(line + '\\n')\n",
    "\n",
    "modified_text = remove_parentheses_from_file(file_path)\n",
    "print(modified_text)"
   ]
  },
  {
   "cell_type": "raw",
   "id": "9d18ecc3",
   "metadata": {},
   "source": [
    "Question 7- Write a regular expression in Python to split a string into uppercase letters.\n",
    "Sample text: “ImportanceOfRegularExpressionsInPython”\n",
    "Expected Output: [‘Importance’, ‘Of’, ‘Regular’, ‘Expression’, ‘In’, ‘Python’]"
   ]
  },
  {
   "cell_type": "code",
   "execution_count": 7,
   "id": "9ff7ce68",
   "metadata": {},
   "outputs": [
    {
     "name": "stdout",
     "output_type": "stream",
     "text": [
      "['Importance', 'Of', 'Regular', 'Expressions', 'In', 'Python']\n"
     ]
    }
   ],
   "source": [
    "import re\n",
    "\n",
    "def split_uppercase(text):\n",
    "    result = re.findall(r'[A-Z][a-z]*', text)\n",
    "    return result\n",
    "sample_text = \"ImportanceOfRegularExpressionsInPython\"\n",
    "output = split_uppercase(sample_text)\n",
    "print(output)"
   ]
  },
  {
   "cell_type": "raw",
   "id": "93ff17bc",
   "metadata": {},
   "source": [
    "Question 8- Create a function in python to insert spaces between words starting with numbers.\n",
    "Sample Text: “RegularExpression1IsAn2ImportantTopic3InPython\"\n",
    "Expected Output: RegularExpression 1IsAn 2ImportantTopic 3InPython"
   ]
  },
  {
   "cell_type": "code",
   "execution_count": 8,
   "id": "dd96ee7a",
   "metadata": {
    "scrolled": true
   },
   "outputs": [
    {
     "name": "stdout",
     "output_type": "stream",
     "text": [
      "RegularExpression 1IsAn  2ImportantTopic  3InPython \n"
     ]
    }
   ],
   "source": [
    "import re\n",
    "\n",
    "def insert_spaces_before_numbers(text):\n",
    "    result = re.sub(r'([\\d][A-Za-z]+)', r' \\1 ', text)\n",
    "    return result\n",
    "\n",
    "sample_text = \"RegularExpression1IsAn2ImportantTopic3InPython\"\n",
    "output = insert_spaces_before_numbers(sample_text)\n",
    "print(output)"
   ]
  },
  {
   "cell_type": "raw",
   "id": "aa6ddf3d",
   "metadata": {},
   "source": [
    "Question 9- Create a function in python to insert spaces between words starting with capital letters or with numbers.\n",
    "Sample Text: “RegularExpression1IsAn2ImportantTopic3InPython\"\n",
    "Expected Output:  RegularExpression 1 IsAn 2 ImportantTopic 3 InPython"
   ]
  },
  {
   "cell_type": "code",
   "execution_count": 9,
   "id": "226918ae",
   "metadata": {},
   "outputs": [
    {
     "name": "stdout",
     "output_type": "stream",
     "text": [
      "Regular Expression 1 Is An 2 Important Topic 3 In Python\n"
     ]
    }
   ],
   "source": [
    "import re\n",
    "\n",
    "def insert_spaces_before_caps_and_numbers(text):\n",
    "    result = re.sub(r'(?<=[a-z0-9])([A-Z0-9])', r' \\1', text)\n",
    "    return result\n",
    "\n",
    "sample_text = \"RegularExpression1IsAn2ImportantTopic3InPython\"\n",
    "output = insert_spaces_before_caps_and_numbers(sample_text)\n",
    "print(output)"
   ]
  },
  {
   "cell_type": "raw",
   "id": "dab8c479",
   "metadata": {},
   "source": [
    "Question 10- Use the github link below to read the data and create a dataframe. After creating the dataframe extract the first 6 letters of each country and store in the dataframe under a new column called first_five_letters.\n",
    "Github Link-  https://raw.githubusercontent.com/dsrscientist/DSData/master/happiness_score_dataset.csv"
   ]
  },
  {
   "cell_type": "code",
   "execution_count": 10,
   "id": "34f21d16",
   "metadata": {},
   "outputs": [
    {
     "name": "stdout",
     "output_type": "stream",
     "text": [
      "       Country first_five_letters\n",
      "0  Switzerland             Switze\n",
      "1      Iceland             Icelan\n",
      "2      Denmark             Denmar\n",
      "3       Norway             Norway\n",
      "4       Canada             Canada\n"
     ]
    }
   ],
   "source": [
    "import pandas as pd\n",
    "url = \"https://raw.githubusercontent.com/dsrscientist/DSData/master/happiness_score_dataset.csv\"\n",
    "df = pd.read_csv(url)\n",
    "df['first_five_letters'] = df['Country'].str[:6]\n",
    "print(df[['Country', 'first_five_letters']].head())"
   ]
  },
  {
   "cell_type": "raw",
   "id": "1c92e051",
   "metadata": {},
   "source": [
    "Question 11- Write a Python program to match a string that contains only upper and lowercase letters, numbers, and underscores."
   ]
  },
  {
   "cell_type": "code",
   "execution_count": 11,
   "id": "b599aea9",
   "metadata": {},
   "outputs": [
    {
     "name": "stdout",
     "output_type": "stream",
     "text": [
      "ABc_123 is valid: True\n",
      "abc! is valid: False\n",
      "A_b_C_123 is valid: True\n"
     ]
    }
   ],
   "source": [
    "import re\n",
    "\n",
    "def is_valid_string(input_string):\n",
    "    pattern = re.compile(r'^[a-zA-Z0-9_]+$')\n",
    "    return bool(pattern.match(input_string))\n",
    "test_string1 = \"ABc_123\"\n",
    "test_string2 = \"abc!\"\n",
    "test_string3 = \"A_b_C_123\"\n",
    "\n",
    "print(f\"{test_string1} is valid: {is_valid_string(test_string1)}\")\n",
    "print(f\"{test_string2} is valid: {is_valid_string(test_string2)}\")\n",
    "print(f\"{test_string3} is valid: {is_valid_string(test_string3)}\")"
   ]
  },
  {
   "cell_type": "raw",
   "id": "1e8ff2cf",
   "metadata": {},
   "source": [
    "Question 12- Write a Python program where a string will start with a specific number."
   ]
  },
  {
   "cell_type": "code",
   "execution_count": 12,
   "id": "3c4973f0",
   "metadata": {},
   "outputs": [
    {
     "name": "stdout",
     "output_type": "stream",
     "text": [
      "42 is the answer. starts with 42: True\n",
      "8 wonders of the world. starts with 7: False\n"
     ]
    }
   ],
   "source": [
    "def starts_with_number(input_string, specific_number):\n",
    "    return input_string.startswith(str(specific_number))\n",
    "input_string1 = \"42 is the answer.\"\n",
    "input_string2 = \"8 wonders of the world.\"\n",
    "specific_number1 = 42\n",
    "specific_number2 = 7\n",
    "\n",
    "print(f\"{input_string1} starts with {specific_number1}: {starts_with_number(input_string1, specific_number1)}\")\n",
    "print(f\"{input_string2} starts with {specific_number2}: {starts_with_number(input_string2, specific_number2)}\")"
   ]
  },
  {
   "cell_type": "raw",
   "id": "a2c23d4d",
   "metadata": {},
   "source": [
    "Question 13- Write a Python program to remove leading zeros from an IP address"
   ]
  },
  {
   "cell_type": "code",
   "execution_count": 13,
   "id": "8f541cea",
   "metadata": {},
   "outputs": [
    {
     "name": "stdout",
     "output_type": "stream",
     "text": [
      "Original IP address: 192.01.023.001\n",
      "Cleaned IP address: 192.1.23.1\n"
     ]
    }
   ],
   "source": [
    "import re\n",
    "\n",
    "def remove_leading_zeros(ip_address):\n",
    "    ip_pattern = re.compile(r'\\b(?:0+)(\\d+)\\b')\n",
    "    cleaned_ip = ip_pattern.sub(r'\\1', ip_address)\n",
    "\n",
    "    return cleaned_ip\n",
    "\n",
    "ip_address_with_zeros = \"192.01.023.001\"\n",
    "cleaned_ip_address = remove_leading_zeros(ip_address_with_zeros)\n",
    "\n",
    "print(f\"Original IP address: {ip_address_with_zeros}\")\n",
    "print(f\"Cleaned IP address: {cleaned_ip_address}\")"
   ]
  },
  {
   "cell_type": "raw",
   "id": "47499ad4",
   "metadata": {},
   "source": [
    "\n",
    "Question 14- Write a regular expression in python to match a date string in the form of Month name followed by day number and year stored in a text file.\n",
    "\n",
    "Sample text :  ' On August 15th 1947 that India was declared independent from British colonialism, and the reins of control were handed over to the leaders of the Country’.\n",
    "\n",
    "Expected Output- August 15th 1947\n",
    "\n",
    "Note- Store given sample text in the text file and then extract the date string asked format."
   ]
  },
  {
   "cell_type": "code",
   "execution_count": 14,
   "id": "b46f8466",
   "metadata": {},
   "outputs": [
    {
     "name": "stdout",
     "output_type": "stream",
     "text": [
      "Extracted date string: ['August 15th 1947']\n"
     ]
    }
   ],
   "source": [
    "import re\n",
    "\n",
    "def extract_date_from_file(file_path):\n",
    "    with open(file_path, 'r') as file:\n",
    "        text = file.read()\n",
    "    pattern = re.compile(r'\\b(?:January|February|March|April|May|June|July|August|September|October|November|December)\\s+\\d{1,2}(?:st|nd|rd|th)\\s+\\d{4}\\b')\n",
    "    matches = pattern.findall(text)\n",
    "    return matches\n",
    "\n",
    "file_path = 'sample_text.txt'\n",
    "sample_text = 'On August 15th 1947 that India was declared independent from British colonialism, and the reins of control were handed over to the leaders of the Country.'\n",
    "with open(file_path, 'w') as file:\n",
    "    file.write(sample_text)\n",
    "\n",
    "result = extract_date_from_file(file_path)\n",
    "print(\"Extracted date string:\", result)"
   ]
  },
  {
   "cell_type": "raw",
   "id": "2da2f0a7",
   "metadata": {},
   "source": [
    "Question 15- Write a Python program to search some literals strings in a string. \n",
    "Sample text : 'The quick brown fox jumps over the lazy dog.'\n",
    "Searched words : 'fox', 'dog', 'horse'"
   ]
  },
  {
   "cell_type": "code",
   "execution_count": 15,
   "id": "47836144",
   "metadata": {},
   "outputs": [
    {
     "name": "stdout",
     "output_type": "stream",
     "text": [
      "Is 'fox' found? True\n",
      "Is 'dog' found? True\n",
      "Is 'horse' found? False\n"
     ]
    }
   ],
   "source": [
    "def search_literals(input_text, searched_words):\n",
    "    results = {}\n",
    "    for word in searched_words:\n",
    "        if word in input_text:\n",
    "            results[word] = True\n",
    "        else:\n",
    "            results[word] = False\n",
    "    return results\n",
    "\n",
    "sample_text = 'The quick brown fox jumps over the lazy dog.'\n",
    "searched_words = ['fox', 'dog', 'horse']\n",
    "\n",
    "results = search_literals(sample_text, searched_words)\n",
    "\n",
    "for word, found in results.items():\n",
    "    print(f\"Is '{word}' found? {found}\")"
   ]
  },
  {
   "cell_type": "raw",
   "id": "f2cda272",
   "metadata": {},
   "source": [
    "Question 16- Write a Python program to search a literals string in a string and also find the location within the original string where the pattern occurs\n",
    "Sample text : 'The quick brown fox jumps over the lazy dog.'\n",
    "Searched words : 'fox'"
   ]
  },
  {
   "cell_type": "code",
   "execution_count": 16,
   "id": "9505bf4d",
   "metadata": {},
   "outputs": [
    {
     "name": "stdout",
     "output_type": "stream",
     "text": [
      "'fox' found at position 16.\n"
     ]
    }
   ],
   "source": [
    "def search_and_find_location(input_text, searched_word):\n",
    "    result = {}\n",
    "    index = input_text.find(searched_word)\n",
    "   \n",
    "    if index != -1:\n",
    "        result['found'] = True\n",
    "        result['location'] = index\n",
    "    else:\n",
    "        result['found'] = False\n",
    "        result['location'] = None\n",
    "    \n",
    "    return result\n",
    "\n",
    "sample_text = 'The quick brown fox jumps over the lazy dog.'\n",
    "searched_word = 'fox'\n",
    "\n",
    "result = search_and_find_location(sample_text, searched_word)\n",
    "\n",
    "if result['found']:\n",
    "    print(f\"'{searched_word}' found at position {result['location']}.\")\n",
    "else:\n",
    "    print(f\"'{searched_word}' not found in the text.\")"
   ]
  },
  {
   "cell_type": "raw",
   "id": "14788fa0",
   "metadata": {},
   "source": [
    "Question 17- Write a Python program to find the substrings within a string.\n",
    "Sample text : 'Python exercises, PHP exercises, C# exercises'\n",
    "Pattern : 'exercises'."
   ]
  },
  {
   "cell_type": "code",
   "execution_count": 17,
   "id": "cf21d3ff",
   "metadata": {},
   "outputs": [
    {
     "name": "stdout",
     "output_type": "stream",
     "text": [
      "Substring 'exercises' found at positions 7 to 16.\n",
      "Substring 'exercises' found at positions 22 to 31.\n",
      "Substring 'exercises' found at positions 36 to 45.\n"
     ]
    }
   ],
   "source": [
    "import re\n",
    "def find_substrings(input_text, pattern):\n",
    "    result = []\n",
    "    matches = re.finditer(pattern, input_text)\n",
    "    for match in matches:\n",
    "        result.append((match.start(), match.end()))\n",
    "\n",
    "    return result\n",
    "sample_text = 'Python exercises, PHP exercises, C# exercises'\n",
    "pattern = 'exercises'\n",
    "\n",
    "result = find_substrings(sample_text, pattern)\n",
    "\n",
    "if result:\n",
    "    for start, end in result:\n",
    "        print(f\"Substring '{pattern}' found at positions {start} to {end}.\")\n",
    "else:\n",
    "    print(f\"Substring '{pattern}' not found in the text.\")"
   ]
  },
  {
   "cell_type": "raw",
   "id": "5bd7d50e",
   "metadata": {},
   "source": [
    "Question 18- Write a Python program to find the occurrence and position of the substrings within a string."
   ]
  },
  {
   "cell_type": "code",
   "execution_count": 18,
   "id": "2bf7890a",
   "metadata": {},
   "outputs": [
    {
     "name": "stdout",
     "output_type": "stream",
     "text": [
      "Occurrence 1: Substring 'exercises' found at positions 7 to 16.\n",
      "Occurrence 2: Substring 'exercises' found at positions 22 to 31.\n",
      "Occurrence 3: Substring 'exercises' found at positions 36 to 45.\n",
      "Occurrence 4: Substring 'exercises' found at positions 54 to 63.\n"
     ]
    }
   ],
   "source": [
    "import re\n",
    "\n",
    "def find_occurrences_and_positions(input_text, pattern):\n",
    "    result = []\n",
    "    matches = re.finditer(pattern, input_text)\n",
    "    for match in matches:\n",
    "        result.append({'occurrence': len(result) + 1, 'start': match.start(), 'end': match.end()})\n",
    "\n",
    "    return result\n",
    "\n",
    "sample_text = 'Python exercises, PHP exercises, C# exercises, Python exercises'\n",
    "pattern = 'exercises'\n",
    "\n",
    "result = find_occurrences_and_positions(sample_text, pattern)\n",
    "\n",
    "if result:\n",
    "    for match_info in result:\n",
    "        print(f\"Occurrence {match_info['occurrence']}: Substring '{pattern}' found at positions {match_info['start']} to {match_info['end']}.\")\n",
    "else:\n",
    "    print(f\"Substring '{pattern}' not found in the text.\")"
   ]
  },
  {
   "cell_type": "raw",
   "id": "ac7b9c54",
   "metadata": {},
   "source": [
    "Question 19- Write a Python program to convert a date of yyyy-mm-dd format to dd-mm-yyyy format."
   ]
  },
  {
   "cell_type": "code",
   "execution_count": 19,
   "id": "b6a20dd1",
   "metadata": {},
   "outputs": [
    {
     "name": "stdout",
     "output_type": "stream",
     "text": [
      "Original date: 2023-12-09\n",
      "Converted date: 09-12-2023\n"
     ]
    }
   ],
   "source": [
    "from datetime import datetime\n",
    "\n",
    "def convert_date_format(input_date):\n",
    "\n",
    "    parsed_date = datetime.strptime(input_date, '%Y-%m-%d')\n",
    "    output_date = parsed_date.strftime('%d-%m-%Y')\n",
    "\n",
    "    return output_date\n",
    "input_date = '2023-12-09'\n",
    "output_date = convert_date_format(input_date)\n",
    "\n",
    "print(f\"Original date: {input_date}\")\n",
    "print(f\"Converted date: {output_date}\")"
   ]
  },
  {
   "cell_type": "raw",
   "id": "a701632e",
   "metadata": {},
   "source": [
    "Question 20- Create a function in python to find all decimal numbers with a precision of 1 or 2 in a string. The use of the re.compile() method is mandatory.\n",
    "Sample Text: \"01.12 0132.123 2.31875 145.8 3.01 27.25 0.25\"\n",
    "Expected Output: ['01.12', '145.8', '3.01', '27.25', '0.25']"
   ]
  },
  {
   "cell_type": "code",
   "execution_count": 20,
   "id": "167efdef",
   "metadata": {},
   "outputs": [
    {
     "name": "stdout",
     "output_type": "stream",
     "text": [
      "Decimal numbers: ['01.12', '145.8', '3.01', '27.25', '0.25']\n"
     ]
    }
   ],
   "source": [
    "import re\n",
    "\n",
    "def find_decimal_numbers(input_string):\n",
    "    pattern = re.compile(r'\\b\\d+\\.\\d{1,2}\\b')\n",
    "\n",
    "    decimal_numbers = pattern.findall(input_string)\n",
    "\n",
    "    return decimal_numbers\n",
    "sample_text = \"01.12 0132.123 2.31875 145.8 3.01 27.25 0.25\"\n",
    "result = find_decimal_numbers(sample_text)\n",
    "print(\"Decimal numbers:\", result)"
   ]
  },
  {
   "cell_type": "raw",
   "id": "f4778fec",
   "metadata": {},
   "source": [
    "Question 21- Write a Python program to separate and print the numbers and their position of a given string."
   ]
  },
  {
   "cell_type": "code",
   "execution_count": 21,
   "id": "0eade2d9",
   "metadata": {},
   "outputs": [
    {
     "name": "stdout",
     "output_type": "stream",
     "text": [
      "Number: 45, Position: 26-28\n",
      "Number: 50, Position: 29-31\n",
      "Number: 3, Position: 52-53\n"
     ]
    }
   ],
   "source": [
    "import re\n",
    "\n",
    "def separate_and_print_numbers(input_string):\n",
    "    pattern = re.compile(r'\\b\\d+\\b')\n",
    "    matches = pattern.finditer(input_string)\n",
    "\n",
    "    for match in matches:\n",
    "        number = match.group()\n",
    "        start_position = match.start()\n",
    "        end_position = match.end()\n",
    "\n",
    "        print(f\"Number: {number}, Position: {start_position}-{end_position}\")\n",
    "\n",
    "sample_text = \"The price of the item is $45.50 and the quantity is 3.\"\n",
    "separate_and_print_numbers(sample_text)"
   ]
  },
  {
   "cell_type": "raw",
   "id": "17ff08b0",
   "metadata": {},
   "source": [
    "Question 22- Write a regular expression in python program to extract maximum/largest numeric value from a string.\n",
    "Sample Text:  'My marks in each semester are: 947, 896, 926, 524, 734, 950, 642'\n",
    "Expected Output: 950"
   ]
  },
  {
   "cell_type": "code",
   "execution_count": 22,
   "id": "92d1bc56",
   "metadata": {},
   "outputs": [
    {
     "name": "stdout",
     "output_type": "stream",
     "text": [
      "Maximum Numeric Value: 950\n"
     ]
    }
   ],
   "source": [
    "import re\n",
    "\n",
    "def extract_maximum_numeric_value(input_string):\n",
    "\n",
    "    pattern = re.compile(r'\\b\\d+\\b')\n",
    "    numeric_values = pattern.findall(input_string)\n",
    "    max_numeric_value = max(map(int, numeric_values), default=None)\n",
    "\n",
    "    return max_numeric_value\n",
    "\n",
    "sample_text = 'My marks in each semester are: 947, 896, 926, 524, 734, 950, 642'\n",
    "result = extract_maximum_numeric_value(sample_text)\n",
    "print(\"Maximum Numeric Value:\", result)"
   ]
  },
  {
   "cell_type": "raw",
   "id": "e7a923c8",
   "metadata": {},
   "source": [
    "Question 23- Create a function in python to insert spaces between words starting with capital letters.\n",
    "Sample Text: “RegularExpressionIsAnImportantTopicInPython\"\n",
    "Expected Output: Regular Expression Is An Important Topic In Python"
   ]
  },
  {
   "cell_type": "code",
   "execution_count": 23,
   "id": "c45f97ed",
   "metadata": {},
   "outputs": [
    {
     "name": "stdout",
     "output_type": "stream",
     "text": [
      "Original Text: RegularExpressionIsAnImportantTopicInPython\n",
      "Modified Text: Regular Expression Is An Important Topic In Python\n"
     ]
    }
   ],
   "source": [
    "import re\n",
    "\n",
    "def insert_spaces_before_caps(input_string):\n",
    "    pattern = re.compile(r'([A-Z][a-z]*)')\n",
    "    result = pattern.sub(r' \\1', input_string)\n",
    "\n",
    "    return result.strip()\n",
    "\n",
    "sample_text = \"RegularExpressionIsAnImportantTopicInPython\"\n",
    "output = insert_spaces_before_caps(sample_text)\n",
    "print(\"Original Text:\", sample_text)\n",
    "print(\"Modified Text:\", output)"
   ]
  },
  {
   "cell_type": "raw",
   "id": "9caeadb2",
   "metadata": {},
   "source": [
    "Question 24- Python regex to find sequences of one upper case letter followed by lower case letters"
   ]
  },
  {
   "cell_type": "code",
   "execution_count": 24,
   "id": "4c045b06",
   "metadata": {},
   "outputs": [
    {
     "name": "stdout",
     "output_type": "stream",
     "text": [
      "Sequences: ['The', 'Brown', 'Fox', 'Jumps', 'Over', 'The', 'Lazy', 'Dog']\n"
     ]
    }
   ],
   "source": [
    "import re\n",
    "\n",
    "def find_sequences(input_string):\n",
    "    pattern = re.compile(r'[A-Z][a-z]*')\n",
    "    matches = pattern.findall(input_string)\n",
    "\n",
    "    return matches\n",
    "\n",
    "sample_text = \"The quick Brown Fox Jumps Over The Lazy Dog\"\n",
    "result = find_sequences(sample_text)\n",
    "print(\"Sequences:\", result)"
   ]
  },
  {
   "cell_type": "raw",
   "id": "a2208af5",
   "metadata": {},
   "source": [
    "Question 25- Write a Python program to remove continuous duplicate words from Sentence using Regular Expression.\n",
    "Sample Text: \"Hello hello world world\"\n",
    "Expected Output: Hello hello world"
   ]
  },
  {
   "cell_type": "code",
   "execution_count": 25,
   "id": "9cf0b967",
   "metadata": {},
   "outputs": [
    {
     "name": "stdout",
     "output_type": "stream",
     "text": [
      "Original Sentence: Hello hello world world\n",
      "Modified Sentence: Hello hello world\n"
     ]
    }
   ],
   "source": [
    "import re\n",
    "\n",
    "def remove_continuous_duplicates(input_sentence):\n",
    "    pattern = re.compile(r'\\b(\\w+)(?: \\1)+\\b')\n",
    "    result = pattern.sub(r'\\1', input_sentence)\n",
    "\n",
    "    return result\n",
    "sample_text = \"Hello hello world world\"\n",
    "output = remove_continuous_duplicates(sample_text)\n",
    "print(\"Original Sentence:\", sample_text)\n",
    "print(\"Modified Sentence:\", output)"
   ]
  },
  {
   "cell_type": "raw",
   "id": "7d146f27",
   "metadata": {},
   "source": [
    "Question 26-  Write a python program using RegEx to accept string ending with alphanumeric character."
   ]
  },
  {
   "cell_type": "code",
   "execution_count": 26,
   "id": "3fe5a734",
   "metadata": {},
   "outputs": [
    {
     "name": "stdout",
     "output_type": "stream",
     "text": [
      "Hello123 ends with alphanumeric: True\n",
      "Python! ends with alphanumeric: False\n",
      "12345 ends with alphanumeric: True\n"
     ]
    }
   ],
   "source": [
    "import re\n",
    "\n",
    "def ends_with_alphanumeric(input_string):\n",
    "    pattern = re.compile(r'\\w$')\n",
    "    match = pattern.search(input_string)\n",
    "\n",
    "    return bool(match)\n",
    "\n",
    "sample_text1 = \"Hello123\"\n",
    "sample_text2 = \"Python!\"\n",
    "sample_text3 = \"12345\"\n",
    "\n",
    "print(f\"{sample_text1} ends with alphanumeric: {ends_with_alphanumeric(sample_text1)}\")\n",
    "print(f\"{sample_text2} ends with alphanumeric: {ends_with_alphanumeric(sample_text2)}\")\n",
    "print(f\"{sample_text3} ends with alphanumeric: {ends_with_alphanumeric(sample_text3)}\")"
   ]
  },
  {
   "cell_type": "raw",
   "id": "ad5c9fdd",
   "metadata": {},
   "source": [
    "Question 27-Write a python program using RegEx to extract the hashtags.\n",
    "Sample Text:  \"\"\"RT @kapil_kausik: #Doltiwal I mean #xyzabc is \"hurt\" by #Demonetization as the same has rendered USELESS <ed><U+00A0><U+00BD><ed><U+00B1><U+0089> \"acquired funds\" No wo\"\"\"\n",
    "Expected Output: ['#Doltiwal', '#xyzabc', '#Demonetization']"
   ]
  },
  {
   "cell_type": "code",
   "execution_count": 27,
   "id": "65612b44",
   "metadata": {},
   "outputs": [
    {
     "name": "stdout",
     "output_type": "stream",
     "text": [
      "Hashtags: ['#Doltiwal', '#xyzabc', '#Demonetization']\n"
     ]
    }
   ],
   "source": [
    "import re\n",
    "\n",
    "def extract_hashtags(input_text):\n",
    "    pattern = re.compile(r'#\\w+')\n",
    "    hashtags = pattern.findall(input_text)\n",
    "\n",
    "    return hashtags\n",
    "\n",
    "sample_text = \"\"\"RT @kapil_kausik: #Doltiwal I mean #xyzabc is \"hurt\" by #Demonetization as the same has rendered USELESS <ed><U+00A0><U+00BD><ed><U+00B1><U+0089> \"acquired funds\" No wo\"\"\"\n",
    "result = extract_hashtags(sample_text)\n",
    "\n",
    "print(\"Hashtags:\", result)"
   ]
  },
  {
   "cell_type": "raw",
   "id": "7f40c871",
   "metadata": {},
   "source": [
    "Question 28- Write a python program using RegEx to remove <U+..> like symbols\n",
    "Check the below sample text, there are strange symbols something of the sort <U+..> all over the place. You need to come up with a general Regex expression that will cover all such symbols.\n",
    "Sample Text: \"@Jags123456 Bharat band on 28??<ed><U+00A0><U+00BD><ed><U+00B8><U+0082>Those who  are protesting #demonetization  are all different party leaders\"\n",
    "Expected Output: @Jags123456 Bharat band on 28??<ed><ed>Those who  are protesting #demonetization  are all different party leaders"
   ]
  },
  {
   "cell_type": "code",
   "execution_count": 28,
   "id": "ede341bc",
   "metadata": {},
   "outputs": [
    {
     "name": "stdout",
     "output_type": "stream",
     "text": [
      "Original Text: @Jags123456 Bharat band on 28??<ed><U+00A0><U+00BD><ed><U+00B8><U+0082>Those who  are protesting #demonetization  are all different party leaders\n",
      "Modified Text: @Jags123456 Bharat band on 28??<ed><ed>Those who  are protesting #demonetization  are all different party leaders\n"
     ]
    }
   ],
   "source": [
    "import re\n",
    "\n",
    "def remove_u_plus_symbols(input_text):\n",
    "    pattern = re.compile(r'<U\\+[0-9A-Fa-f]+>')\n",
    "    result = pattern.sub('', input_text)\n",
    "\n",
    "    return result\n",
    "sample_text = \"@Jags123456 Bharat band on 28??<ed><U+00A0><U+00BD><ed><U+00B8><U+0082>Those who  are protesting #demonetization  are all different party leaders\"\n",
    "output = remove_u_plus_symbols(sample_text)\n",
    "print(\"Original Text:\", sample_text)\n",
    "print(\"Modified Text:\", output)"
   ]
  },
  {
   "cell_type": "raw",
   "id": "ddd2bb13",
   "metadata": {},
   "source": [
    "Question 29- Write a python program to extract dates from the text stored in the text file.\n",
    "Sample Text: Ron was born on 12-09-1992 and he was admitted to school 15-12-1999.\n",
    "Note- Store this sample text in the file and then extract dates."
   ]
  },
  {
   "cell_type": "code",
   "execution_count": 29,
   "id": "233195d1",
   "metadata": {},
   "outputs": [
    {
     "name": "stdout",
     "output_type": "stream",
     "text": [
      "Sample Text:\n",
      "Ron was born on 12-09-1992 and he was admitted to school 15-12-1999.\n",
      "\n",
      "Extracted Dates:\n",
      "['12-09-1992', '15-12-1999']\n"
     ]
    }
   ],
   "source": [
    "import re\n",
    "\n",
    "def extract_dates_from_text(file_path):\n",
    "    with open(file_path, 'r') as file:\n",
    "        text = file.read()\n",
    "    dates = re.findall(r'\\b\\d{2}-\\d{2}-\\d{4}\\b', text)\n",
    "\n",
    "    return dates\n",
    "\n",
    "file_path = 'sample_text.txt'\n",
    "sample_text = \"Ron was born on 12-09-1992 and he was admitted to school 15-12-1999.\"\n",
    "with open(file_path, 'w') as file:\n",
    "    file.write(sample_text)\n",
    "    \n",
    "extracted_dates = extract_dates_from_text(file_path)\n",
    "\n",
    "print(\"Sample Text:\")\n",
    "print(sample_text)\n",
    "print(\"\\nExtracted Dates:\")\n",
    "print(extracted_dates)"
   ]
  },
  {
   "cell_type": "raw",
   "id": "90b1b0a4",
   "metadata": {},
   "source": [
    "Question 30- Create a function in python to remove all words from a string of length between 2 and 4.\n",
    "The use of the re.compile() method is mandatory.\n",
    "\n",
    "Sample Text: \"The following example creates an ArrayList with a capacity of 50 elements. 4 elements are then added to the ArrayList and the ArrayList is trimmed accordingly.\"\n",
    "\n",
    "Expected Output:  following example creates ArrayList a capacity elements. 4 elements added ArrayList ArrayList trimmed accordingly."
   ]
  },
  {
   "cell_type": "code",
   "execution_count": 30,
   "id": "ddc1f1ef",
   "metadata": {},
   "outputs": [
    {
     "name": "stdout",
     "output_type": "stream",
     "text": [
      "Original Text: The following example creates an ArrayList with a capacity of 50 elements. 4 elements are then added to the ArrayList and the ArrayList is trimmed accordingly.\n",
      "Modified Text: following example creates  ArrayList  a capacity   elements. 4 elements   added   ArrayList   ArrayList  trimmed accordingly.\n"
     ]
    }
   ],
   "source": [
    "import re\n",
    "\n",
    "def remove_words_of_length_2_to_4(input_string):\n",
    "    pattern = re.compile(r'\\b\\w{2,4}\\b')\n",
    "    result = pattern.sub('', input_string)\n",
    "\n",
    "    return result.strip()  \n",
    "\n",
    "sample_text = \"The following example creates an ArrayList with a capacity of 50 elements. 4 elements are then added to the ArrayList and the ArrayList is trimmed accordingly.\"\n",
    "output = remove_words_of_length_2_to_4(sample_text)\n",
    "print(\"Original Text:\", sample_text)\n",
    "print(\"Modified Text:\", output)"
   ]
  }
 ],
 "metadata": {
  "kernelspec": {
   "display_name": "Python 3 (ipykernel)",
   "language": "python",
   "name": "python3"
  },
  "language_info": {
   "codemirror_mode": {
    "name": "ipython",
    "version": 3
   },
   "file_extension": ".py",
   "mimetype": "text/x-python",
   "name": "python",
   "nbconvert_exporter": "python",
   "pygments_lexer": "ipython3",
   "version": "3.10.9"
  }
 },
 "nbformat": 4,
 "nbformat_minor": 5
}
