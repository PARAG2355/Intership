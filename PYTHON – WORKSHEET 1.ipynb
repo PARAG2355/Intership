{
 "cells": [
  {
   "cell_type": "markdown",
   "id": "4cc22cd1",
   "metadata": {},
   "source": [
    "-----------------------------------------------Solutions-------------------------------------------------------"
   ]
  },
  {
   "cell_type": "raw",
   "id": "57129a56",
   "metadata": {},
   "source": [
    "1. Which of the following operators is used to calculate remainder in a division?\n",
    "A) # B) &\n",
    "C) % D) $\n",
    "Ans 1- C)%"
   ]
  },
  {
   "cell_type": "raw",
   "id": "bec69e48",
   "metadata": {},
   "source": [
    "2. In python 2//3 is equal to?\n",
    "A) 0.666 B) 0\n",
    "C) 1 D) 0.67"
   ]
  },
  {
   "cell_type": "code",
   "execution_count": 1,
   "id": "a967f11f",
   "metadata": {},
   "outputs": [
    {
     "data": {
      "text/plain": [
       "0"
      ]
     },
     "execution_count": 1,
     "metadata": {},
     "output_type": "execute_result"
    }
   ],
   "source": [
    "2//3"
   ]
  },
  {
   "cell_type": "markdown",
   "id": "3b105b76",
   "metadata": {},
   "source": [
    "Ans 2-B)0"
   ]
  },
  {
   "cell_type": "raw",
   "id": "66cc2c4f",
   "metadata": {},
   "source": [
    "3. In python, 6<<2 is equal to?\n",
    "A) 36 B) 10\n",
    "C) 24 D) 45"
   ]
  },
  {
   "cell_type": "code",
   "execution_count": 2,
   "id": "15e253e8",
   "metadata": {},
   "outputs": [
    {
     "data": {
      "text/plain": [
       "24"
      ]
     },
     "execution_count": 2,
     "metadata": {},
     "output_type": "execute_result"
    }
   ],
   "source": [
    "6<<2"
   ]
  },
  {
   "cell_type": "markdown",
   "id": "dbb099b2",
   "metadata": {},
   "source": [
    "Ans 3-C) 24"
   ]
  },
  {
   "cell_type": "raw",
   "id": "2d85cb03",
   "metadata": {},
   "source": [
    "4. In python, 6&2 will give which of the following as output?\n",
    "A) 2 B) True\n",
    "C) False D) 0"
   ]
  },
  {
   "cell_type": "code",
   "execution_count": 3,
   "id": "81ca3dca",
   "metadata": {},
   "outputs": [
    {
     "data": {
      "text/plain": [
       "2"
      ]
     },
     "execution_count": 3,
     "metadata": {},
     "output_type": "execute_result"
    }
   ],
   "source": [
    "6&2"
   ]
  },
  {
   "cell_type": "markdown",
   "id": "47b5a3db",
   "metadata": {},
   "source": [
    "Ans 4-A) 2"
   ]
  },
  {
   "cell_type": "raw",
   "id": "364dc1b5",
   "metadata": {},
   "source": [
    "5. In python, 6|2 will give which of the following as output?\n",
    "A) 2 B) 4\n",
    "C) 0 D) 6"
   ]
  },
  {
   "cell_type": "code",
   "execution_count": 4,
   "id": "f524c76a",
   "metadata": {},
   "outputs": [
    {
     "data": {
      "text/plain": [
       "6"
      ]
     },
     "execution_count": 4,
     "metadata": {},
     "output_type": "execute_result"
    }
   ],
   "source": [
    "6|2"
   ]
  },
  {
   "cell_type": "markdown",
   "id": "6a96a76e",
   "metadata": {},
   "source": [
    "Ans 5-D) 6"
   ]
  },
  {
   "cell_type": "raw",
   "id": "fdc356aa",
   "metadata": {},
   "source": [
    "6. What does the finally keyword denotes in python?\n",
    "A) It is used to mark the end of the code\n",
    "B) It encloses the lines of code which will be executed if any error occurs while executing the lines of code in \n",
    "the try block.\n",
    "C) the finally block will be executed no matter if the try block raises an error or not.\n",
    "D) None of the above\n",
    "\n",
    "Ans 6-C) the finally block will be executed no matter if the try block raises an error or not."
   ]
  },
  {
   "cell_type": "raw",
   "id": "7961795c",
   "metadata": {},
   "source": [
    "7. What does raise keyword is used for in python?\n",
    "A) It is used to raise an exception. B) It is used to define lambda function\n",
    "C) it's not a keyword in python. D) None of the above"
   ]
  },
  {
   "cell_type": "markdown",
   "id": "7d5b2031",
   "metadata": {},
   "source": [
    "Ans 7-A) It is used to raise an exception."
   ]
  },
  {
   "cell_type": "raw",
   "id": "2f7cb487",
   "metadata": {},
   "source": [
    "8. Which of the following is a common use case of yield keyword in python?\n",
    "A) in defining an iterator B) while defining a lambda function\n",
    "C) in defining a generator D) in for loop."
   ]
  },
  {
   "cell_type": "markdown",
   "id": "b44582ca",
   "metadata": {},
   "source": [
    "Ans 8-C) in defining a generator"
   ]
  },
  {
   "cell_type": "raw",
   "id": "585ee1dd",
   "metadata": {},
   "source": [
    "9. Which of the following are the valid variable names?\n",
    "A) _abc B) 1abc\n",
    "C) abc2 D) None of the above"
   ]
  },
  {
   "cell_type": "markdown",
   "id": "3e7c4b9e",
   "metadata": {},
   "source": [
    "Ans 9-A) _abc C) abc2 "
   ]
  },
  {
   "cell_type": "raw",
   "id": "17db4f97",
   "metadata": {},
   "source": [
    "10. Which of the following are the keywords in python?\n",
    "A) yield B) raise\n",
    "C) look-in D) all of the above"
   ]
  },
  {
   "cell_type": "markdown",
   "id": "5c73e944",
   "metadata": {},
   "source": [
    "Ans 10-A) yield B) raise"
   ]
  },
  {
   "cell_type": "markdown",
   "id": "b5ccb6de",
   "metadata": {},
   "source": [
    "11. Write a python program to find the factorial of a number."
   ]
  },
  {
   "cell_type": "code",
   "execution_count": 5,
   "id": "e4bbb3ce",
   "metadata": {},
   "outputs": [
    {
     "name": "stdout",
     "output_type": "stream",
     "text": [
      "Enter a number: 4\n",
      "The factorial of 4 is 24\n"
     ]
    }
   ],
   "source": [
    "def factorial(n):\n",
    "    if n == 0 or n == 1:\n",
    "        return 1\n",
    "    else:\n",
    "        return n * factorial(n - 1)\n",
    "    \n",
    "number = int(input(\"Enter a number: \"))\n",
    "result = factorial(number)\n",
    "print(f\"The factorial of {number} is {result}\")"
   ]
  },
  {
   "cell_type": "markdown",
   "id": "5d63cf40",
   "metadata": {},
   "source": [
    "12. Write a python program to find whether a number is prime or composite."
   ]
  },
  {
   "cell_type": "code",
   "execution_count": 6,
   "id": "3f83ff2e",
   "metadata": {},
   "outputs": [
    {
     "name": "stdout",
     "output_type": "stream",
     "text": [
      "Enter a number: 4\n",
      "The number 4 is Composite\n"
     ]
    }
   ],
   "source": [
    "def is_prime(num):\n",
    "    if num > 1:\n",
    "        for i in range(2, int(num**0.5) + 1):\n",
    "            if num % i == 0:\n",
    "                return \"Composite\"\n",
    "        return \"Prime\"\n",
    "    else:\n",
    "        return \"Neither prime nor composite\"\n",
    "\n",
    "number = int(input(\"Enter a number: \"))\n",
    "result = is_prime(number)\n",
    "print(f\"The number {number} is {result}\")"
   ]
  },
  {
   "cell_type": "markdown",
   "id": "026f1926",
   "metadata": {},
   "source": [
    "13. Write a python program to check whether a given string is palindrome or not"
   ]
  },
  {
   "cell_type": "code",
   "execution_count": 7,
   "id": "a165f0e1",
   "metadata": {},
   "outputs": [
    {
     "name": "stdout",
     "output_type": "stream",
     "text": [
      "Enter a string: 434\n",
      "The string '434' is a palindrome\n"
     ]
    }
   ],
   "source": [
    "def is_palindrome(s):\n",
    "    s = s.lower()  # Convert to lowercase for case-insensitive comparison\n",
    "    return s == s[::-1]\n",
    "\n",
    "string = input(\"Enter a string: \")\n",
    "result = is_palindrome(string)\n",
    "print(f\"The string '{string}' is {'a palindrome' if result else 'not a palindrome'}\")"
   ]
  },
  {
   "cell_type": "markdown",
   "id": "de3f8067",
   "metadata": {},
   "source": [
    "14. Write a Python program to get the third side of right-angled triangle from two given sides."
   ]
  },
  {
   "cell_type": "code",
   "execution_count": 8,
   "id": "996600c3",
   "metadata": {},
   "outputs": [
    {
     "name": "stdout",
     "output_type": "stream",
     "text": [
      "Enter the length of the first side: 3\n",
      "Enter the length of the second side: 4\n",
      "The length of the third side is: 5.0\n"
     ]
    }
   ],
   "source": [
    "import math\n",
    "\n",
    "def find_third_side(a, b):\n",
    "    # Pythagorean theorem: c^2 = a^2 + b^2\n",
    "    c = math.sqrt(a**2 + b**2)\n",
    "    return c\n",
    "\n",
    "side1 = float(input(\"Enter the length of the first side: \"))\n",
    "side2 = float(input(\"Enter the length of the second side: \"))\n",
    "result = find_third_side(side1, side2)\n",
    "print(f\"The length of the third side is: {result}\")"
   ]
  },
  {
   "cell_type": "markdown",
   "id": "986f1a77",
   "metadata": {},
   "source": [
    "15. Write a python program to print the frequency of each of the characters present in a given string."
   ]
  },
  {
   "cell_type": "code",
   "execution_count": 9,
   "id": "775452ce",
   "metadata": {},
   "outputs": [
    {
     "name": "stdout",
     "output_type": "stream",
     "text": [
      "Enter a string: PArag Bansal\n",
      "Character frequencies:\n",
      "P: 1\n",
      "A: 1\n",
      "r: 1\n",
      "a: 3\n",
      "g: 1\n",
      " : 1\n",
      "B: 1\n",
      "n: 1\n",
      "s: 1\n",
      "l: 1\n"
     ]
    }
   ],
   "source": [
    "def char_frequency(s):\n",
    "    frequency = {}\n",
    "    for char in s:\n",
    "        frequency[char] = frequency.get(char, 0) + 1\n",
    "    return frequency\n",
    "\n",
    "input_string = input(\"Enter a string: \")\n",
    "frequency_result = char_frequency(input_string)\n",
    "print(\"Character frequencies:\")\n",
    "for char, count in frequency_result.items():\n",
    "    print(f\"{char}: {count}\")"
   ]
  }
 ],
 "metadata": {
  "kernelspec": {
   "display_name": "Python 3 (ipykernel)",
   "language": "python",
   "name": "python3"
  },
  "language_info": {
   "codemirror_mode": {
    "name": "ipython",
    "version": 3
   },
   "file_extension": ".py",
   "mimetype": "text/x-python",
   "name": "python",
   "nbconvert_exporter": "python",
   "pygments_lexer": "ipython3",
   "version": "3.10.9"
  }
 },
 "nbformat": 4,
 "nbformat_minor": 5
}
